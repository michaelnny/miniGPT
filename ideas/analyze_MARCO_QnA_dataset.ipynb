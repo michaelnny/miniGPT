{
 "cells": [
  {
   "cell_type": "code",
   "execution_count": 1,
   "metadata": {},
   "outputs": [],
   "source": [
    "import pandas as pd\n",
    "import numpy as np\n",
    "import json\n",
    "import random\n",
    "\n",
    "%matplotlib widget\n",
    "\n",
    "from matplotlib import pyplot as plt"
   ]
  },
  {
   "cell_type": "code",
   "execution_count": 2,
   "metadata": {},
   "outputs": [],
   "source": [
    "file_path = '../raw_data/MARCO_QnA/train_v2.1.json'"
   ]
  },
  {
   "cell_type": "code",
   "execution_count": 3,
   "metadata": {},
   "outputs": [
    {
     "name": "stdout",
     "output_type": "stream",
     "text": [
      "                                             answers  \\\n",
      "0  [The immediate impact of the success of the ma...   \n",
      "1  [Restorative justice that fosters dialogue bet...   \n",
      "\n",
      "                                            passages  \\\n",
      "0  [{'is_selected': 1, 'passage_text': 'The prese...   \n",
      "1  [{'is_selected': 0, 'passage_text': 'group dis...   \n",
      "\n",
      "                                               query  query_id   query_type  \\\n",
      "0  )what was the immediate impact of the success ...   1185869  DESCRIPTION   \n",
      "1  _________ justice is designed to repair the ha...   1185868  DESCRIPTION   \n",
      "\n",
      "  wellFormedAnswers  \n",
      "0                []  \n",
      "1                []  \n"
     ]
    }
   ],
   "source": [
    "ds = pd.read_json(file_path)\n",
    "print(ds.head(2))"
   ]
  },
  {
   "cell_type": "code",
   "execution_count": 4,
   "metadata": {},
   "outputs": [
    {
     "name": "stdout",
     "output_type": "stream",
     "text": [
      "Index(['answers', 'passages', 'query', 'query_id', 'query_type',\n",
      "       'wellFormedAnswers'],\n",
      "      dtype='object')\n"
     ]
    }
   ],
   "source": [
    "print(ds.columns)"
   ]
  },
  {
   "cell_type": "code",
   "execution_count": 5,
   "metadata": {},
   "outputs": [
    {
     "name": "stdout",
     "output_type": "stream",
     "text": [
      "['DESCRIPTION' 'LOCATION' 'NUMERIC' 'ENTITY' 'PERSON']\n"
     ]
    }
   ],
   "source": [
    "print(ds.query_type.unique())"
   ]
  },
  {
   "cell_type": "code",
   "execution_count": 6,
   "metadata": {},
   "outputs": [
    {
     "name": "stdout",
     "output_type": "stream",
     "text": [
      "DESCRIPTION    427514\n",
      "NUMERIC        212856\n",
      "ENTITY          71741\n",
      "LOCATION        50893\n",
      "PERSON          45727\n",
      "Name: query_type, dtype: int64\n"
     ]
    }
   ],
   "source": [
    "print(ds['query_type'].value_counts())"
   ]
  },
  {
   "cell_type": "code",
   "execution_count": 7,
   "metadata": {},
   "outputs": [
    {
     "name": "stdout",
     "output_type": "stream",
     "text": [
      "{'is_selected': 1, 'passage_text': 'The presence of communication amid scientific minds was equally important to the success of the Manhattan Project as scientific intellect was. The only cloud hanging over the impressive achievement of the atomic researchers and engineers is what their success truly meant; hundreds of thousands of innocent lives obliterated.', 'url': 'http://www.pitt.edu/~sdb14/atombomb.html'}\n",
      ")what was the immediate impact of the success of the manhattan project?\n",
      "DESCRIPTION\n",
      "['The immediate impact of the success of the manhattan project was the only cloud hanging over the impressive achievement of the atomic researchers and engineers is what their success truly meant; hundreds of thousands of innocent lives obliterated.']\n",
      "\n",
      "\n",
      "{'is_selected': 1, 'passage_text': 'The approach is based on a theory of justice that considers crime and wrongdoing to be an offense against an individual or community, rather than the State. Restorative justice that fosters dialogue between victim and offender has shown the highest rates of victim satisfaction and offender accountability.', 'url': 'https://en.wikipedia.org/wiki/Restorative_justice'}\n",
      "_________ justice is designed to repair the harm to victim, the community and the offender caused by the offender criminal act. question 19 options:\n",
      "DESCRIPTION\n",
      "['Restorative justice that fosters dialogue between victim and offender has shown the highest rates of victim satisfaction and offender accountability.']\n",
      "\n",
      "\n"
     ]
    }
   ],
   "source": [
    "for index, row in ds.head(2).iterrows():\n",
    "    \n",
    "    for passage in row['passages']:\n",
    "        if passage['is_selected']:\n",
    "            print(passage)\n",
    "\n",
    "    print(row['query'])\n",
    "    print(row['query_type'])\n",
    "    print(row['answers'])\n",
    "    \n",
    "    print('\\n')\n"
   ]
  },
  {
   "cell_type": "code",
   "execution_count": 8,
   "metadata": {},
   "outputs": [],
   "source": [
    "content = []\n",
    "with open(file_path, \"r\", encoding=\"utf-8\") as file:\n",
    "    content = file.read()"
   ]
  },
  {
   "cell_type": "code",
   "execution_count": 9,
   "metadata": {},
   "outputs": [
    {
     "name": "stdout",
     "output_type": "stream",
     "text": [
      "dict_keys(['answers', 'passages', 'query', 'query_id', 'query_type', 'wellFormedAnswers'])\n"
     ]
    }
   ],
   "source": [
    "parsed_json = json.loads(content)\n",
    "print(parsed_json.keys())"
   ]
  },
  {
   "cell_type": "code",
   "execution_count": 10,
   "metadata": {},
   "outputs": [
    {
     "name": "stdout",
     "output_type": "stream",
     "text": [
      "808731\n",
      "808731\n",
      "808731\n",
      "808731\n"
     ]
    }
   ],
   "source": [
    "print(len(parsed_json['passages']))\n",
    "print(len(parsed_json['query']))\n",
    "print(len(parsed_json['answers']))\n",
    "print(len(parsed_json['query_id']))"
   ]
  },
  {
   "cell_type": "code",
   "execution_count": 11,
   "metadata": {},
   "outputs": [
    {
     "name": "stdout",
     "output_type": "stream",
     "text": [
      "<class 'dict'>\n",
      "<class 'dict'>\n",
      "<class 'dict'>\n"
     ]
    }
   ],
   "source": [
    "print(type(parsed_json['passages']))\n",
    "print(type(parsed_json['query']))\n",
    "print(type(parsed_json['answers']))"
   ]
  },
  {
   "cell_type": "code",
   "execution_count": 12,
   "metadata": {},
   "outputs": [
    {
     "name": "stdout",
     "output_type": "stream",
     "text": [
      "25359\n",
      "13799\n"
     ]
    }
   ],
   "source": [
    "num_multiple_passage = 0\n",
    "num_multiple_answers = 0\n",
    "\n",
    "passages_dict = parsed_json['passages']\n",
    "query_dict = parsed_json['query']\n",
    "answers_dict = parsed_json['answers']\n",
    "\n",
    "for k in list(query_dict.keys()):\n",
    "    context = ''\n",
    "\n",
    "    selected_count = 0\n",
    "    for passage in passages_dict[k]:\n",
    "        if passage['is_selected']:\n",
    "            context += ' ' + passage['passage_text']\n",
    "            selected_count +=1\n",
    "    \n",
    "    if selected_count > 1:\n",
    "        num_multiple_passage +=1\n",
    "    \n",
    "    if len(answers_dict[k]) > 1:\n",
    "        num_multiple_answers +=1\n",
    "\n",
    "\n",
    "print(num_multiple_passage)\n",
    "print(num_multiple_answers)"
   ]
  },
  {
   "cell_type": "code",
   "execution_count": 47,
   "metadata": {},
   "outputs": [],
   "source": [
    "prompt_completion_pairs = []\n",
    "\n",
    "passages_dict = parsed_json['passages']\n",
    "query_dict = parsed_json['query']\n",
    "answers_dict = parsed_json['answers']\n",
    "\n",
    "for k in list(query_dict.keys()):\n",
    "    context = ''\n",
    "\n",
    "    for passage in passages_dict[k]:\n",
    "        if passage['is_selected']:\n",
    "            context = passage['passage_text']\n",
    "            break\n",
    "    \n",
    "    context = context.strip()\n",
    "    prompt = query_dict[k]\n",
    "    completion = answers_dict[k][0]\n",
    "\n",
    "    if len(prompt.strip().split()) < 5: # skip bad samples where words are mixed together\n",
    "        continue\n",
    "\n",
    "    if 'No Answer Present' in completion and random.random() < 0.99: # skip most data without answer\n",
    "        continue\n",
    "\n",
    "    completion = \" \" + completion + ' END'\n",
    "            \n",
    "    prompt_completion_pairs.append((f\"{context}\\n\\n{prompt}\\n\\n###\\n\\n\", completion))\n",
    "\n"
   ]
  },
  {
   "cell_type": "code",
   "execution_count": 48,
   "metadata": {},
   "outputs": [
    {
     "name": "stdout",
     "output_type": "stream",
     "text": [
      "358494\n"
     ]
    }
   ],
   "source": [
    "print(len(prompt_completion_pairs))"
   ]
  },
  {
   "cell_type": "code",
   "execution_count": 52,
   "metadata": {},
   "outputs": [
    {
     "name": "stdout",
     "output_type": "stream",
     "text": [
      "============================================================\n",
      "\n",
      "The typical U.S. adult downs about four cups a day, which is shy of the Institute of Medicine's recommendation to drink about three liters of fluid for men and 2.2 liters for women. But others disagree with this assessment -- if that's the amount of water a person naturally drinks in response to thirst, that's fine.\n",
      "\n",
      "how much water is a woman supposed to drink a day\n",
      "\n",
      "###\n",
      "\n",
      " 2.2 liters END\n",
      "============================================================\n",
      "\n",
      "Proteins are compounds composed of carbon, hydrogen, oxygen , and nitrogen , which are arranged as strands of amino acids . They play an essential role in the cellular maintenance, growth, and functioning of the human body. Serving as the basic structural molecule of all the tissues in the body, protein makes up nearly 17 percent of the total body weight. To understand protein's role and function in the human body, it is important to understand its basic structure and composition. Amino Acids. Amino acids are the fundamental building blocks of protein. Long chains of amino acids, called polypeptides, make up the multicomponent, large complexes of protein. The arrangement of amino acids along the chain determines the structure and chemical properties of the protein.\n",
      "\n",
      "how do proteins form in the human body?\n",
      "\n",
      "###\n",
      "\n",
      " Proteins are compounds composed of carbon, hydrogen, oxygen , and nitrogen , which are arranged as strands of amino acids . They play an essential role in the cellular maintenance, growth, and functioning of the human body. END\n",
      "============================================================\n",
      "\n",
      "Hand numbness is usually caused by damage, irritation or compression of one of the nerves or a branch of one of the nerves in your arm and wrist. Diseases affecting the peripheral nerves, such as diabetes, also can cause numbness, although with diabetes similar symptoms usually occur first in your feet. In very uncommon instances, numbness can be caused by problems in your brain or spinal cord, although in such cases arm or hand weakness or loss of function also occurs. Numbness alone is only rarely associated with potentially life-threatening disorders, such as strokes or tumors.\n",
      "\n",
      "hand and arm numbness causes\n",
      "\n",
      "###\n",
      "\n",
      " Damage, irritation or compression of one of the nerves or a branch of one of the nerves in your arm and wrist, strokes or tumors, diseases affecting the peripheral nerves, such as diabetes, also can cause numbness. END\n",
      "============================================================\n",
      "\n",
      "The Right atrioventricular valve (also known as the Tricuspid Valve) has 3 FLAPS.\n",
      "\n",
      "how many flaps on the atrioventricular valve\n",
      "\n",
      "###\n",
      "\n",
      " 3 flaps END\n",
      "============================================================\n",
      "\n",
      "Map of hotel and College World Series at TD Ameritrade Park-Omaha NE. Smoke-free hotel-does not allow pets. Free Internet in room. Most Recent Guest Review. Great hotel for kids.\n",
      "\n",
      "where does the college world series take place in omaha nebraska\n",
      "\n",
      "###\n",
      "\n",
      " TD Ameritrade Park END\n",
      "============================================================\n",
      "\n",
      "Best Answer: There are many differences- 1. Organic compounds are produced by living things. Inorganic compounds are produced by non-living natural processes or by human intervention in the laboratory. 2. Organic compounds can not form salts but Inorganic compounds can form salts. 3. Organic compounds contain carbon. Inorganic compounds don't. 4. Organic compounds contain carbon-hydrogen bonds. Inorganic compounds don't. 5. Organic compounds do not contain metal atoms but Inorganic compounds contain metal atoms.\n",
      "\n",
      "difference between organic and inorganic compounds\n",
      "\n",
      "###\n",
      "\n",
      " The difference between organic and inorganic compounds are 1. Organic compounds are produced by living things. Inorganic compounds are produced by non-living natural processes or by human intervention in the laboratory. 2. Organic compounds can not form salts but Inorganic compounds can form salts. 3. Organic compounds contain carbon. Inorganic compounds don't. 4. Organic compounds contain carbon-hydrogen bonds. Inorganic compounds don't. 5. Organic compounds do not contain metal atoms but Inorganic compounds contain metal atoms. END\n",
      "============================================================\n",
      "\n",
      "Answer Wiki. According to Wikipedia, Frederic Rzewski's The Road is the longest non-repetitive piece of music written for the piano. This is a crucial distinction, because if we eliminate the requirement that a piece of music must be non-repetitive, then the longest piano piece is Vexations by Erik Satie.\n",
      "\n",
      "what is the hardest piece of music ever written\n",
      "\n",
      "###\n",
      "\n",
      " The Road is the longest non-repetitive piece of music written for the piano. END\n",
      "============================================================\n",
      "\n",
      "Weather in Madrid in March. Temperatures jump up a notch in Madrid in March. You're also early enough to avoid the spring showers that will come in the next two months. The average maximum temperature in Madrid in March is 61°F/16°C and the average minimum temperature is 37°F/3°C. Read more about Madrid or find out about Madrid Events in 2014. Weather in Barcelona in March. Main article: Barcelona Weather in March. Slowly heating up, Barcelona is emerging from its cold winter, but don't expect the best weather just yet.\n",
      "\n",
      "average temperature in march in madrid spain\n",
      "\n",
      "###\n",
      "\n",
      " The average temperature of Madrid in March is the maximum of 61 degrees Fahrenheit or 16 degrees Celsius and the minimum temperature is 37 degrees Fahrenheit or 3 degrees Celsius. END\n",
      "============================================================\n",
      "\n",
      "Get some cement, paste it along the top of your wall, then get some thick broken glass and securely fit it in. Make sure you supervise the wall until it's dry and set, because bits could fall into your garden etc.hey keep climbing the wall and kicking their footballs over several times a day. They've knocked my two year old son off his slide, ruined plants, and covered my washing in mud from their footballs. But when I ask them to stop they get cheeky and answer me back.\n",
      "\n",
      "how to stop someone climbing over your wall\n",
      "\n",
      "###\n",
      "\n",
      " Some cement, paste it along the top of your wall, then get some thick broken glass and securely fit it in. END\n",
      "============================================================\n",
      "\n",
      "Russia constitution chapter 4 article 81 : 3. “One person may not hold the position of Russian president for more than two terms in a row.”. So Putin had two terms between 2000 - 2008 and third term from 2012 till 2018. If you ask why 6 years in 2012 instead of 4 - terms were extended from four to six years in 2008, during Dmitry Medvedev's presidency.\n",
      "\n",
      "how many terms does the president of russia can serve\n",
      "\n",
      "###\n",
      "\n",
      " The president of Russia can serve two terms. END\n"
     ]
    }
   ],
   "source": [
    "random.shuffle(prompt_completion_pairs)\n",
    "\n",
    "for pairs in prompt_completion_pairs[:10]:\n",
    "    print('='*60 +'\\n')\n",
    "    print(f\"{pairs[0]}{pairs[1]}\")"
   ]
  },
  {
   "cell_type": "code",
   "execution_count": 41,
   "metadata": {},
   "outputs": [],
   "source": [
    "import re\n",
    "\n",
    "word_pattern = re.compile(r'\\b\\w+\\b')\n",
    "\n",
    "def count_words(raw_text) -> int:\n",
    "    if raw_text is None or raw_text == '':\n",
    "        return 0\n",
    "\n",
    "    word_count = len(word_pattern.findall(raw_text))\n",
    "\n",
    "    return word_count"
   ]
  },
  {
   "cell_type": "code",
   "execution_count": 56,
   "metadata": {},
   "outputs": [
    {
     "name": "stdout",
     "output_type": "stream",
     "text": [
      "mean: 81.71415421178597, std: 31.223243924743066\n",
      "min: 6, max: 401\n"
     ]
    }
   ],
   "source": [
    "text_length = []\n",
    "for pair in prompt_completion_pairs:\n",
    "    text_length.append(count_words(pair[0]+pair[1]))\n",
    "\n",
    "print(f'mean: {np.mean(text_length)}, std: {np.std(text_length)}')\n",
    "print(f'min: {np.min(text_length)}, max: {np.max(text_length)}')"
   ]
  },
  {
   "cell_type": "code",
   "execution_count": 54,
   "metadata": {},
   "outputs": [
    {
     "data": {
      "text/plain": [
       "Text(0.5, 1.0, 'Text Length Distribution')"
      ]
     },
     "execution_count": 54,
     "metadata": {},
     "output_type": "execute_result"
    },
    {
     "data": {
      "application/vnd.jupyter.widget-view+json": {
       "model_id": "d3acfb903d20498da10c53a0b442b6c3",
       "version_major": 2,
       "version_minor": 0
      },
      "image/png": "[encoded data removed]",
      "text/html": [
       "\n",
       "            <div style=\"display: inline-block;\">\n",
       "                <div class=\"jupyter-widgets widget-label\" style=\"text-align: center;\">\n",
       "                    Figure\n",
       "                </div>\n",
       "                <img src='data:image/png;base64,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' width=640.0/>\n",
       "            </div>\n",
       "        "
      ],
      "text/plain": [
       "Canvas(toolbar=Toolbar(toolitems=[('Home', 'Reset original view', 'home', 'home'), ('Back', 'Back to previous …"
      ]
     },
     "metadata": {},
     "output_type": "display_data"
    }
   ],
   "source": [
    "# Plotting the text length distribution\n",
    "fig = plt.figure()\n",
    "plt.hist(text_length, bins=100, edgecolor='black')  # Adjust the number of bins as per your preference\n",
    "plt.xlabel('Text Length')\n",
    "plt.ylabel('Frequency')\n",
    "plt.title('Text Length Distribution')"
   ]
  },
  {
   "cell_type": "code",
   "execution_count": 57,
   "metadata": {},
   "outputs": [
    {
     "name": "stdout",
     "output_type": "stream",
     "text": [
      "mean: 110.25506703041054, std: 39.5447860225065\n",
      "min: 13, max: 486\n"
     ]
    },
    {
     "ename": "",
     "evalue": "",
     "output_type": "error",
     "traceback": [
      "\u001b[1;31mThe Kernel crashed while executing code in the the current cell or a previous cell. Please review the code in the cell(s) to identify a possible cause of the failure. Click <a href='https://aka.ms/vscodeJupyterKernelCrash'>here</a> for more info. View Jupyter <a href='command:jupyter.viewOutput'>log</a> for further details."
     ]
    }
   ],
   "source": [
    "import tiktoken\n",
    "\n",
    "tokenizer = tiktoken.get_encoding('p50k_base')\n",
    "\n",
    "token_length = []\n",
    "\n",
    "for pair in prompt_completion_pairs:\n",
    "    token_length.append(len(tokenizer.encode_ordinary(pair[0]+pair[1])))\n",
    "\n",
    "print(f'mean: {np.mean(token_length)}, std: {np.std(token_length)}')\n",
    "print(f'min: {np.min(token_length)}, max: {np.max(token_length)}')"
   ]
  },
  {
   "cell_type": "code",
   "execution_count": 45,
   "metadata": {},
   "outputs": [
    {
     "data": {
      "text/plain": [
       "Text(0.5, 1.0, 'Token Length Distribution')"
      ]
     },
     "execution_count": 45,
     "metadata": {},
     "output_type": "execute_result"
    },
    {
     "data": {
      "application/vnd.jupyter.widget-view+json": {
       "model_id": "170beb84ff1e4deb9e20ae790253a63b",
       "version_major": 2,
       "version_minor": 0
      },
      "image/png": "[encoded data removed]",
      "text/html": [
       "\n",
       "            <div style=\"display: inline-block;\">\n",
       "                <div class=\"jupyter-widgets widget-label\" style=\"text-align: center;\">\n",
       "                    Figure\n",
       "                </div>\n",
       "                <img src='data:image/png;base64,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' width=640.0/>\n",
       "            </div>\n",
       "        "
      ],
      "text/plain": [
       "Canvas(toolbar=Toolbar(toolitems=[('Home', 'Reset original view', 'home', 'home'), ('Back', 'Back to previous …"
      ]
     },
     "metadata": {},
     "output_type": "display_data"
    }
   ],
   "source": [
    "# Plotting the token length distribution\n",
    "fig = plt.figure()\n",
    "plt.hist(token_length, bins=100, edgecolor='black')  # Adjust the number of bins as per your preference\n",
    "plt.xlabel('Token Length')\n",
    "plt.ylabel('Frequency')\n",
    "plt.title('Token Length Distribution')"
   ]
  }
 ],
 "metadata": {
  "kernelspec": {
   "display_name": "Python 3",
   "language": "python",
   "name": "python3"
  },
  "language_info": {
   "codemirror_mode": {
    "name": "ipython",
    "version": 3
   },
   "file_extension": ".py",
   "mimetype": "text/x-python",
   "name": "python",
   "nbconvert_exporter": "python",
   "pygments_lexer": "ipython3",
   "version": "3.11.4"
  },
  "orig_nbformat": 4
 },
 "nbformat": 4,
 "nbformat_minor": 2
}
